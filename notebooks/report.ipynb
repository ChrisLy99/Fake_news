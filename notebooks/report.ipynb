{
 "cells": [
  {
   "cell_type": "markdown",
   "metadata": {},
   "source": [
    "# Introduction"
   ]
  },
  {
   "cell_type": "markdown",
   "metadata": {},
   "source": [
    "Social networks in the digital age facilitate the spread of information and ideas throughout the world. They allow users to view the opinions of others and to connect with each other, forming smaller groups on these platforms. This paper shall investigate the dynamics of how news and information spreads through social networks. In particular, we are interested in the difference between the dynamics of two often opposing narratives, scientific news and conspiracy theories. As the role of social networks in disseminating information grows, so too does the possibility of spreading misinformation. The issue has become increasingly prevalent in recent years, with the World Economic Forum (2013) claiming that “digital wildfires” of misinformation will have the ability to wreak havoc in this “hyperconnected world”.\n",
    "\n",
    "This is especially prevalent as the coronavirus (COVID-19) pandemic has become a main target of both scientific and unverifiable information online. Other researchers have taken to tweets on Twitter as an insight into the general sentiment regarding the issue. By identifying tweets that start or further propagate myths surrounding COVID-19, researchers have found that there are a number of myths that popped up near the start of the pandemic, measured by volume of tweets, which became widespread over time (Singh et al., 2020). Similarly, our investigation will be conducted using data from Twitter related to COVID-19. Tweet IDs have been collected on tweets relating to COVID-19 by a team at the Panacea Lab at Georgia State University since the onset of the COVID-19 pandemic (Banda et al., 2020).\n",
    "\n",
    "Not only do the content of tweets reveal insight into the prevalence of the two narratives often shared online, there is a number of additional information connected to the tweets. By pairing the initial content with geographic information, temporal information, and the sequence of retweeting, we can gain insight into the dynamic factors that influence the lifespan and diffusion of certain types of information. In general, it is crucial to monitor for “digital wildfires” and by understanding the underlying factors of how misinformation spreads, work to build systems to quench it before it gets out of hand.\n"
   ]
  },
  {
   "cell_type": "markdown",
   "metadata": {},
   "source": [
    "# EDA"
   ]
  },
  {
   "cell_type": "markdown",
   "metadata": {},
   "source": [
    "Initial investigations of the tweets data showed that the filtering process carried out by the PanaceaLab proved successful in accumulating tweets relevant to the Coronavirus which paves the foundation of our investigation. Additionally, the dataset captures retweet information, which captures the process of how information diffuses on Twitter. This is because, Twitter, relies on retweets for information to be seen by more people. Using tweets in addition to the retweets, a graph can be constructed modeling the process of the diffusion of the initial tweet. This initial model will be the infrastructure allowing us to analyze information diffusion later in the study. \n",
    "\n",
    "Twitter has a tagging system for tweets where the addition of “hashtags” allows Twitter to group the tweet with other tweets using the same hashtag. Our exploration of the data began with looking at the most common hashtag among the tweets sampled. Understanding the most commonly used tweets sheds light on how the majority of people on Twitter view the coronavirus."
   ]
  },
  {
   "cell_type": "markdown",
   "metadata": {},
   "source": [
    "There are 910798 tweets in the dataset"
   ]
  },
  {
   "cell_type": "markdown",
   "metadata": {},
   "source": [
    "## Top Hashtags"
   ]
  },
  {
   "cell_type": "markdown",
   "metadata": {},
   "source": [
    "Unsurprisingly, the top five hashtags were “covid19”, “coronavirus”, “covid_19”, “covid􏿾19”, and “covid”. So not only is Twitter’s hashtag system case sensitive, this means that while people are tweeting and discussing the same thing, the grouping of tweets is spread out throughout similar hashtags that essentially are the same thing. Further steps will be lemmatization of the hashtags to group together similar discussions. However, it is important to consider to what degree since certain deviations may be used exclusively in certain circles disseminating certain types of information."
   ]
  },
  {
   "cell_type": "markdown",
   "metadata": {},
   "source": [
    "![top_hashtags.png](../data/report/top_hashtags.png)"
   ]
  },
  {
   "cell_type": "markdown",
   "metadata": {},
   "source": [
    "## Most Posting Users"
   ]
  },
  {
   "cell_type": "markdown",
   "metadata": {},
   "source": [
    "Now we shall do the same but for the number of times each user posts."
   ]
  },
  {
   "cell_type": "markdown",
   "metadata": {},
   "source": [
    "![top_users.png](../data/report/top_users.png)"
   ]
  },
  {
   "cell_type": "markdown",
   "metadata": {},
   "source": [
    "Immediately we notice something interesting. The users who post the most frequently are bots. They seem to make up a large proportion of the Top 10 as well, with 40% of the top ten users containing the phrase 'bot' in their names. Of course, some of the other users may be bots as well, but just without the word 'bot' in their screen name. This definitely warrants further investigation."
   ]
  },
  {
   "cell_type": "markdown",
   "metadata": {},
   "source": [
    "## Hashtag Counts by Day"
   ]
  },
  {
   "cell_type": "markdown",
   "metadata": {},
   "source": [
    "Now that we had accumulated this information, we furthered our analysis by doing some preliminary hashtag analysis. For the purposes of this study, we selected 6 hashtags, 3 for science based information and 3 for misinformation.\n",
    "\n",
    "For science hashtags we chose:\n",
    "1. covid19\n",
    "1. wearamask\n",
    "1. socialdistancing\n",
    "\n",
    "For conspiracy hashtags we chose:\n",
    "1. wuhanvirus\n",
    "1. fakenews\n",
    "1. maga"
   ]
  },
  {
   "cell_type": "markdown",
   "metadata": {},
   "source": [
    "### Science Hashtag Usages"
   ]
  },
  {
   "cell_type": "markdown",
   "metadata": {},
   "source": [
    "Below we portray the usage of the these hashtags throughout the days contained in the dataset we collected."
   ]
  },
  {
   "cell_type": "markdown",
   "metadata": {},
   "source": [
    "![Covid19.png](../data/report/covid19.png)"
   ]
  },
  {
   "cell_type": "markdown",
   "metadata": {},
   "source": [
    "This is a graph of the occurrences of #StayHome in the dataset we collected. Ignoring the \"spikiness\" one can see that the general distribution starts off with a fairly large number of occurrences of #StayHome, around 20. Over time it decreases and reaches a plateau of approximately 5 occurrences per day. We believe that this is because at the start of the pandemic everyone was encouraging every one else to stay home, and over time, staying home became the norm and there was no longer a need to use the hashtag as frequently."
   ]
  },
  {
   "cell_type": "markdown",
   "metadata": {},
   "source": [
    "![WearAMask.png](../data/report/wearamask.png)"
   ]
  },
  {
   "cell_type": "markdown",
   "metadata": {},
   "source": [
    "This is a graph of the occurrences of #WearAMask in the dataset we collected. Ignoring the \"spikiness\" one can see that the general distribution starts off extremely low and ramps up over time. This went against our initial intuition as we believed that it should follow the same distribution as #StayHome. However, after further research, we found that initially, no one was told to wear a mask, and the urge to wear a mask increased as more research came out on how the SarsCov-2 virus actually spread. With this reasoning, it makes sense that #WearAMask's occurrences increased over time as opposed to decreasing over time."
   ]
  },
  {
   "cell_type": "markdown",
   "metadata": {},
   "source": [
    "![SocialDistancing.png](../data/report/socialdistancing.png)"
   ]
  },
  {
   "cell_type": "markdown",
   "metadata": {},
   "source": [
    "This is a graph of the occurrences of #SocialDistancing in the dataset we collected. What we can see here is that the frequency of this hashtag stayed relatively constant throughout the time frame of tweets that we gathered. There is one large spike on a particular day, however this is likely due to the random sampling that we put into place when subsampling the whole dataset."
   ]
  },
  {
   "cell_type": "markdown",
   "metadata": {},
   "source": [
    "### Misinformation Hashtag Usages"
   ]
  },
  {
   "cell_type": "markdown",
   "metadata": {},
   "source": [
    "![ChinaVirus.png](../data/report/wuhanvirus.png)"
   ]
  },
  {
   "cell_type": "markdown",
   "metadata": {},
   "source": [
    "What we see here is a relatively stable distribution. However does seem to be a downward trend in the number of daily occurrences for the usage of this hashtag. This might be because WuhanVirus, as a hashtag, was initially used by racist people trying to blame China for releasing the Coronavirus onto the world and over time, their need for scapegoating reduced."
   ]
  },
  {
   "cell_type": "markdown",
   "metadata": {},
   "source": [
    "![FakeNews.png](../data/report/fakenews.png)"
   ]
  },
  {
   "cell_type": "markdown",
   "metadata": {},
   "source": [
    "This graph of the daily occurrences of #FakeNews stays stable throughout the time frame of our dataset. While one might think this doesn't give us any information, what this actually tells us is that, those who tend to spread misinformation via the hashtag \"FakeNews\" continuously do so. They don't seem to stop using it, but they don't also gain any support over time either. This leads us to believe that the conspiracy or misinformation user base consists of the same people and did not grow stronger or weaker over time."
   ]
  },
  {
   "cell_type": "markdown",
   "metadata": {},
   "source": [
    "![MAGA.png](../data/report/maga.png)"
   ]
  },
  {
   "cell_type": "markdown",
   "metadata": {},
   "source": [
    "This plot of the daily occurrences of #Hydroxychloroquine is actually quite interesting. The usage of this hashtag stays relatively constant, but has occasional large spikes, almost periodically. We believe that this is highly tied to the mentions of Hydroxychloroquine in the media. Initially, at the onset of the pandemic, there was talk about using Hydroxychloroquine to prevent being infected with Coronavirus. After some time, this belief resurged again, with Dr. Fauci having to disprove it yet again. It seems as though as time passes, and a vaccine does not come out for preventing COVID-19, people turn to belief in Hydroxychloroquine as a genuine solution."
   ]
  },
  {
   "cell_type": "markdown",
   "metadata": {},
   "source": [
    "![scientific.png](../data/report/scientific.png)"
   ]
  },
  {
   "cell_type": "markdown",
   "metadata": {},
   "source": [
    "![scientific_norm.png](../data/report/scientific_norm.png)"
   ]
  },
  {
   "cell_type": "markdown",
   "metadata": {},
   "source": [
    "![misinformation.png](../data/report/misinformation.png)"
   ]
  },
  {
   "cell_type": "markdown",
   "metadata": {},
   "source": [
    "![misinformation_norm.png](../data/report/misinformation_norm.png)"
   ]
  }
 ],
 "metadata": {
  "kernelspec": {
   "display_name": "Python 3",
   "language": "python",
   "name": "python3"
  },
  "language_info": {
   "codemirror_mode": {
    "name": "ipython",
    "version": 3
   },
   "file_extension": ".py",
   "mimetype": "text/x-python",
   "name": "python",
   "nbconvert_exporter": "python",
   "pygments_lexer": "ipython3",
   "version": "3.7.3"
  }
 },
 "nbformat": 4,
 "nbformat_minor": 4
}
