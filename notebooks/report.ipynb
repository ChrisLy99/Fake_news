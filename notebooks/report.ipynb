{
 "cells": [
  {
   "cell_type": "markdown",
   "metadata": {},
   "source": [
    "# EDA"
   ]
  },
  {
   "cell_type": "markdown",
   "metadata": {},
   "source": [
    "This notebook will be going through an overview of the tweets that our team has collected. These tweets were downloaded from a Git repository hosted by the PanaceaLab at Georgia Tech University. They have already filtered these tweets to only those pertaining to the novel Coronavirus.\n",
    "\n",
    "First let us load the tweets:"
   ]
  },
  {
   "cell_type": "code",
   "execution_count": 1,
   "metadata": {},
   "outputs": [],
   "source": [
    "import sys\n",
    "import numpy as np\n",
    "import matplotlib.pyplot as plt\n",
    "import pickle\n",
    "# import warnings\n",
    "# warnings.filterwarnings('ignore')"
   ]
  },
  {
   "cell_type": "markdown",
   "metadata": {},
   "source": [
    "We have created a Tweet_Dataset class to easily interact with the tweets."
   ]
  },
  {
   "cell_type": "markdown",
   "metadata": {},
   "source": [
    "And this is that a tweet looks like:"
   ]
  },
  {
   "cell_type": "code",
   "execution_count": 2,
   "metadata": {},
   "outputs": [
    {
     "data": {
      "text/plain": [
       "{'created_at': datetime.datetime(2020, 3, 22, 4, 1, 29, tzinfo=datetime.timezone.utc),\n",
       " 'id': 1241575703012716544,\n",
       " 'id_str': '1241575703012716544',\n",
       " 'full_text': '327 #Covid19 positive cases in India, \\n\\nMaharashtra -64\\n\\nKerala -52\\n\\nDelhi -26\\n\\nUttar Pradesh- 26\\n\\nRajasthan -23\\n\\nTelangana -21\\n\\nTN - 6\\n\\nhttps://t.co/ItngnPEJjh https://t.co/6EGM2NK3vp',\n",
       " 'truncated': False,\n",
       " 'display_text_range': [0, 160],\n",
       " 'entities': {'hashtags': [{'text': 'Covid19', 'indices': [4, 12]}],\n",
       "  'symbols': [],\n",
       "  'user_mentions': [],\n",
       "  'urls': [{'url': 'https://t.co/ItngnPEJjh',\n",
       "    'expanded_url': 'https://covidout.in/',\n",
       "    'display_url': 'covidout.in',\n",
       "    'indices': [137, 160]}],\n",
       "  'media': [{'id': 1241575692866711552,\n",
       "    'id_str': '1241575692866711552',\n",
       "    'indices': [161, 184],\n",
       "    'media_url': 'http://pbs.twimg.com/media/ETr2g7cUcAAaQPM.jpg',\n",
       "    'media_url_https': 'https://pbs.twimg.com/media/ETr2g7cUcAAaQPM.jpg',\n",
       "    'url': 'https://t.co/6EGM2NK3vp',\n",
       "    'display_url': 'pic.twitter.com/6EGM2NK3vp',\n",
       "    'expanded_url': 'https://twitter.com/cinema_war/status/1241575703012716544/photo/1',\n",
       "    'type': 'photo',\n",
       "    'sizes': {'large': {'w': 980, 'h': 1060, 'resize': 'fit'},\n",
       "     'thumb': {'w': 150, 'h': 150, 'resize': 'crop'},\n",
       "     'small': {'w': 629, 'h': 680, 'resize': 'fit'},\n",
       "     'medium': {'w': 980, 'h': 1060, 'resize': 'fit'}}}]},\n",
       " 'extended_entities': {'media': [{'id': 1241575692866711552,\n",
       "    'id_str': '1241575692866711552',\n",
       "    'indices': [161, 184],\n",
       "    'media_url': 'http://pbs.twimg.com/media/ETr2g7cUcAAaQPM.jpg',\n",
       "    'media_url_https': 'https://pbs.twimg.com/media/ETr2g7cUcAAaQPM.jpg',\n",
       "    'url': 'https://t.co/6EGM2NK3vp',\n",
       "    'display_url': 'pic.twitter.com/6EGM2NK3vp',\n",
       "    'expanded_url': 'https://twitter.com/cinema_war/status/1241575703012716544/photo/1',\n",
       "    'type': 'photo',\n",
       "    'sizes': {'large': {'w': 980, 'h': 1060, 'resize': 'fit'},\n",
       "     'thumb': {'w': 150, 'h': 150, 'resize': 'crop'},\n",
       "     'small': {'w': 629, 'h': 680, 'resize': 'fit'},\n",
       "     'medium': {'w': 980, 'h': 1060, 'resize': 'fit'}},\n",
       "    'ext_alt_text': None}]},\n",
       " 'source': '<a href=\"http://twitter.com/download/android\" rel=\"nofollow\">Twitter for Android</a>',\n",
       " 'in_reply_to_status_id': None,\n",
       " 'in_reply_to_status_id_str': None,\n",
       " 'in_reply_to_user_id': None,\n",
       " 'in_reply_to_user_id_str': None,\n",
       " 'in_reply_to_screen_name': None,\n",
       " 'user': {'id': 1001592067,\n",
       "  'id_str': '1001592067',\n",
       "  'name': 'Tamil Cinema War',\n",
       "  'screen_name': 'cinema_war',\n",
       "  'location': 'Chennai, India',\n",
       "  'description': 'Cinema News 24/7 | Movie Reviews | Galleries,Trailers | For Promotions DM Me.\\n\\nEllarum Nalla Iruppom',\n",
       "  'url': 'https://t.co/1cHA0Kzql0',\n",
       "  'entities': {'url': {'urls': [{'url': 'https://t.co/1cHA0Kzql0',\n",
       "      'expanded_url': 'http://www.ndmsnow.com',\n",
       "      'display_url': 'ndmsnow.com',\n",
       "      'indices': [0, 23]}]},\n",
       "   'description': {'urls': []}},\n",
       "  'protected': False,\n",
       "  'followers_count': 14354,\n",
       "  'friends_count': 178,\n",
       "  'listed_count': 40,\n",
       "  'created_at': 'Mon Dec 10 12:37:36 +0000 2012',\n",
       "  'favourites_count': 1254,\n",
       "  'utc_offset': None,\n",
       "  'time_zone': None,\n",
       "  'geo_enabled': False,\n",
       "  'verified': False,\n",
       "  'statuses_count': 34124,\n",
       "  'lang': None,\n",
       "  'contributors_enabled': False,\n",
       "  'is_translator': False,\n",
       "  'is_translation_enabled': False,\n",
       "  'profile_background_color': 'C0DEED',\n",
       "  'profile_background_image_url': 'http://abs.twimg.com/images/themes/theme1/bg.png',\n",
       "  'profile_background_image_url_https': 'https://abs.twimg.com/images/themes/theme1/bg.png',\n",
       "  'profile_background_tile': True,\n",
       "  'profile_image_url': 'http://pbs.twimg.com/profile_images/1260890794203938819/u5QEcpYm_normal.jpg',\n",
       "  'profile_image_url_https': 'https://pbs.twimg.com/profile_images/1260890794203938819/u5QEcpYm_normal.jpg',\n",
       "  'profile_banner_url': 'https://pbs.twimg.com/profile_banners/1001592067/1596094839',\n",
       "  'profile_image_extensions_alt_text': None,\n",
       "  'profile_banner_extensions_alt_text': None,\n",
       "  'profile_link_color': '0084B4',\n",
       "  'profile_sidebar_border_color': 'FFFFFF',\n",
       "  'profile_sidebar_fill_color': 'DDEEF6',\n",
       "  'profile_text_color': '333333',\n",
       "  'profile_use_background_image': True,\n",
       "  'has_extended_profile': True,\n",
       "  'default_profile': False,\n",
       "  'default_profile_image': False,\n",
       "  'following': False,\n",
       "  'follow_request_sent': False,\n",
       "  'notifications': False,\n",
       "  'translator_type': 'none'},\n",
       " 'geo': None,\n",
       " 'coordinates': None,\n",
       " 'place': None,\n",
       " 'contributors': None,\n",
       " 'is_quote_status': False,\n",
       " 'retweet_count': 0,\n",
       " 'favorite_count': 0,\n",
       " 'favorited': False,\n",
       " 'retweeted': False,\n",
       " 'possibly_sensitive': False,\n",
       " 'lang': 'in'}"
      ]
     },
     "execution_count": 2,
     "metadata": {},
     "output_type": "execute_result"
    }
   ],
   "source": [
    "with open('../data/report/data_point.pkl', 'rb') as f:\n",
    "    data = pickle.load(f)\n",
    "data"
   ]
  },
  {
   "cell_type": "markdown",
   "metadata": {},
   "source": [
    "As you see, the JSON format of the tweet allows us to easily access the metadata for each tweet. "
   ]
  },
  {
   "cell_type": "markdown",
   "metadata": {},
   "source": [
    "## Top 10 Hashtags"
   ]
  },
  {
   "cell_type": "markdown",
   "metadata": {},
   "source": [
    "One of the most important pieces of information contained in the tweets are the hashtags. Hashtags are a special kind of data because they serve as a sort of classification by themselves. Here, we look at the top 10 hashtags that were present in the dataset."
   ]
  },
  {
   "cell_type": "markdown",
   "metadata": {},
   "source": [
    "![top_hashtags.png](../data/report/top_hashtags.png)"
   ]
  },
  {
   "cell_type": "markdown",
   "metadata": {},
   "source": [
    "## Most Posting Users"
   ]
  },
  {
   "cell_type": "markdown",
   "metadata": {},
   "source": [
    "Now we shall do the same but for the number of times each user posts."
   ]
  },
  {
   "cell_type": "markdown",
   "metadata": {},
   "source": [
    "![top_users.png](../data/report/top_users.png)"
   ]
  },
  {
   "cell_type": "markdown",
   "metadata": {},
   "source": [
    "Immediately we notice something interesting. The users who post the most frequently are bots. They seem to make up a large proportion of the Top 10 as well, with 40% of the top ten users containing the phrase 'bot' in their names. Of course, some of the other users may be bots as well, but just without the word 'bot' in their screen name. This definitely warrants further investigation."
   ]
  },
  {
   "cell_type": "markdown",
   "metadata": {},
   "source": [
    "## Hashtag Counts by Day"
   ]
  },
  {
   "cell_type": "markdown",
   "metadata": {},
   "source": [
    "In this section we will select, by hand, 3 hashtags for the science set and 3 for the conspiracy set. Note that this was based off of our biased assumptions and could very well not be the case. We will investigate how the usage of these hashtags changed throughout the dataset's timespan."
   ]
  },
  {
   "cell_type": "markdown",
   "metadata": {},
   "source": [
    "### Science Hashtag Usages"
   ]
  },
  {
   "cell_type": "markdown",
   "metadata": {},
   "source": [
    "We chose to associate #Covid19, #WearAMask, and #SocialDistancing with being categorized as science based tweets. Below we portray the usage of the these hashtags throughout the days contained in the dataset we collected."
   ]
  },
  {
   "cell_type": "markdown",
   "metadata": {},
   "source": [
    "![Covid19.png](../data/report/Covid19.png)"
   ]
  },
  {
   "cell_type": "markdown",
   "metadata": {},
   "source": [
    "![WearAMask.png](../data/report/WearAMask.png)"
   ]
  },
  {
   "cell_type": "markdown",
   "metadata": {},
   "source": [
    "![SocialDistancing.png](../data/report/SocialDistancing.png)"
   ]
  },
  {
   "cell_type": "markdown",
   "metadata": {},
   "source": [
    "### Misinformation Hashtag Usages"
   ]
  },
  {
   "cell_type": "markdown",
   "metadata": {},
   "source": [
    "Categorizing hashtags as misinformation based was subjective, just as it was for the former category. We chose #FakeNews, #Hoax, and #ChinaVirus to be the hashtags associated with tweets that were not based on fact. Their daily usage plots are below."
   ]
  },
  {
   "cell_type": "markdown",
   "metadata": {},
   "source": [
    "![FakeNews.png](../data/report/FakeNews.png)"
   ]
  },
  {
   "cell_type": "markdown",
   "metadata": {},
   "source": [
    "![Hoax.png](../data/report/Hoax.png)"
   ]
  },
  {
   "cell_type": "markdown",
   "metadata": {},
   "source": [
    "![ChinaVirus.png](../data/report/ChinaVirus.png)"
   ]
  },
  {
   "cell_type": "code",
   "execution_count": null,
   "metadata": {},
   "outputs": [],
   "source": []
  }
 ],
 "metadata": {
  "kernelspec": {
   "display_name": "Python 3",
   "language": "python",
   "name": "python3"
  },
  "language_info": {
   "codemirror_mode": {
    "name": "ipython",
    "version": 3
   },
   "file_extension": ".py",
   "mimetype": "text/x-python",
   "name": "python",
   "nbconvert_exporter": "python",
   "pygments_lexer": "ipython3",
   "version": "3.7.6"
  }
 },
 "nbformat": 4,
 "nbformat_minor": 4
}
