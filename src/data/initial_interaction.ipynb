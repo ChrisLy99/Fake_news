{
 "cells": [
  {
   "cell_type": "code",
   "execution_count": 1,
   "metadata": {},
   "outputs": [],
   "source": [
    "import yaml\n",
    "import os\n",
    "import json\n",
    "import pandas as pd\n",
    "import numpy as np\n",
    "import matplotlib.pyplot as plt\n",
    "from collections import Counter"
   ]
  },
  {
   "cell_type": "code",
   "execution_count": 2,
   "metadata": {},
   "outputs": [
    {
     "name": "stdout",
     "output_type": "stream",
     "text": [
      "/datasets/home/home-00/05/105/ppathuri/Fake_news/src/data\n",
      "2020-03-22_2020-08-01_ids.jsonl  data\n"
     ]
    }
   ],
   "source": [
    "!pwd\n",
    "data_folder = '../../data/b07/'\n",
    "!ls $data_folder"
   ]
  },
  {
   "cell_type": "code",
   "execution_count": 3,
   "metadata": {},
   "outputs": [
    {
     "name": "stdout",
     "output_type": "stream",
     "text": [
      "/datasets/home/home-00/05/105/ppathuri/Fake_news/src/data\n",
      "start_date: '2020-03-22'\n",
      "end_date: '2020-08-01'\n",
      "outdir: 'data/raw'\n"
     ]
    }
   ],
   "source": [
    "!pwd\n",
    "config_path = '../../config/data_params.yaml'\n",
    "!cat $config_path"
   ]
  },
  {
   "cell_type": "code",
   "execution_count": 4,
   "metadata": {},
   "outputs": [
    {
     "name": "stdout",
     "output_type": "stream",
     "text": [
      "../../data/b07/2020-03-22_2020-08-01_ids.jsonl\r\n"
     ]
    }
   ],
   "source": [
    "def load_config(path):\n",
    "    \"\"\"Load the configuration from config.\"\"\"\n",
    "    return yaml.load(open(path, 'r'), Loader=yaml.SafeLoader)\n",
    "\n",
    "config = load_config(config_path)\n",
    "start_date = config['start_date']\n",
    "end_date = config['end_date']\n",
    "\n",
    "data_file = start_date + '_' + end_date + '_ids.jsonl'\n",
    "path_to_data = data_folder + data_file\n",
    "!ls $path_to_data"
   ]
  },
  {
   "cell_type": "code",
   "execution_count": 5,
   "metadata": {},
   "outputs": [],
   "source": [
    "def tweets(filepath):\n",
    "    for line in open(filepath):\n",
    "        yield line"
   ]
  },
  {
   "cell_type": "code",
   "execution_count": 6,
   "metadata": {},
   "outputs": [
    {
     "name": "stdout",
     "output_type": "stream",
     "text": [
      "created_at\n",
      "id\n",
      "id_str\n",
      "full_text\n",
      "truncated\n",
      "display_text_range\n",
      "entities\n",
      "extended_entities\n",
      "source\n",
      "in_reply_to_status_id\n",
      "in_reply_to_status_id_str\n",
      "in_reply_to_user_id\n",
      "in_reply_to_user_id_str\n",
      "in_reply_to_screen_name\n",
      "user\n",
      "geo\n",
      "coordinates\n",
      "place\n",
      "contributors\n",
      "is_quote_status\n",
      "retweet_count\n",
      "favorite_count\n",
      "favorited\n",
      "retweeted\n",
      "possibly_sensitive\n",
      "lang\n"
     ]
    }
   ],
   "source": [
    "gen = tweets(path_to_data)\n",
    "twt = next(gen)\n",
    "twt_dic = json.loads(twt)\n",
    "for key in twt_dic.keys():\n",
    "    print(key)"
   ]
  },
  {
   "cell_type": "code",
   "execution_count": 7,
   "metadata": {},
   "outputs": [
    {
     "data": {
      "text/plain": [
       "{'created_at': 'Sun Mar 22 04:01:29 +0000 2020',\n",
       " 'id': 1241575703012716544,\n",
       " 'id_str': '1241575703012716544',\n",
       " 'full_text': '327 #Covid19 positive cases in India, \\n\\nMaharashtra -64\\n\\nKerala -52\\n\\nDelhi -26\\n\\nUttar Pradesh- 26\\n\\nRajasthan -23\\n\\nTelangana -21\\n\\nTN - 6\\n\\nhttps://t.co/ItngnPEJjh https://t.co/6EGM2NK3vp',\n",
       " 'truncated': False,\n",
       " 'display_text_range': [0, 160],\n",
       " 'entities': {'hashtags': [{'text': 'Covid19', 'indices': [4, 12]}],\n",
       "  'symbols': [],\n",
       "  'user_mentions': [],\n",
       "  'urls': [{'url': 'https://t.co/ItngnPEJjh',\n",
       "    'expanded_url': 'https://covidout.in/',\n",
       "    'display_url': 'covidout.in',\n",
       "    'indices': [137, 160]}],\n",
       "  'media': [{'id': 1241575692866711552,\n",
       "    'id_str': '1241575692866711552',\n",
       "    'indices': [161, 184],\n",
       "    'media_url': 'http://pbs.twimg.com/media/ETr2g7cUcAAaQPM.jpg',\n",
       "    'media_url_https': 'https://pbs.twimg.com/media/ETr2g7cUcAAaQPM.jpg',\n",
       "    'url': 'https://t.co/6EGM2NK3vp',\n",
       "    'display_url': 'pic.twitter.com/6EGM2NK3vp',\n",
       "    'expanded_url': 'https://twitter.com/cinema_war/status/1241575703012716544/photo/1',\n",
       "    'type': 'photo',\n",
       "    'sizes': {'large': {'w': 980, 'h': 1060, 'resize': 'fit'},\n",
       "     'thumb': {'w': 150, 'h': 150, 'resize': 'crop'},\n",
       "     'small': {'w': 629, 'h': 680, 'resize': 'fit'},\n",
       "     'medium': {'w': 980, 'h': 1060, 'resize': 'fit'}}}]},\n",
       " 'extended_entities': {'media': [{'id': 1241575692866711552,\n",
       "    'id_str': '1241575692866711552',\n",
       "    'indices': [161, 184],\n",
       "    'media_url': 'http://pbs.twimg.com/media/ETr2g7cUcAAaQPM.jpg',\n",
       "    'media_url_https': 'https://pbs.twimg.com/media/ETr2g7cUcAAaQPM.jpg',\n",
       "    'url': 'https://t.co/6EGM2NK3vp',\n",
       "    'display_url': 'pic.twitter.com/6EGM2NK3vp',\n",
       "    'expanded_url': 'https://twitter.com/cinema_war/status/1241575703012716544/photo/1',\n",
       "    'type': 'photo',\n",
       "    'sizes': {'large': {'w': 980, 'h': 1060, 'resize': 'fit'},\n",
       "     'thumb': {'w': 150, 'h': 150, 'resize': 'crop'},\n",
       "     'small': {'w': 629, 'h': 680, 'resize': 'fit'},\n",
       "     'medium': {'w': 980, 'h': 1060, 'resize': 'fit'}},\n",
       "    'ext_alt_text': None}]},\n",
       " 'source': '<a href=\"http://twitter.com/download/android\" rel=\"nofollow\">Twitter for Android</a>',\n",
       " 'in_reply_to_status_id': None,\n",
       " 'in_reply_to_status_id_str': None,\n",
       " 'in_reply_to_user_id': None,\n",
       " 'in_reply_to_user_id_str': None,\n",
       " 'in_reply_to_screen_name': None,\n",
       " 'user': {'id': 1001592067,\n",
       "  'id_str': '1001592067',\n",
       "  'name': 'Tamil Cinema War',\n",
       "  'screen_name': 'cinema_war',\n",
       "  'location': 'Chennai, India',\n",
       "  'description': 'Cinema News 24/7 | Movie Reviews | Galleries,Trailers | For Promotions DM Me.\\n\\nEllarum Nalla Iruppom',\n",
       "  'url': 'https://t.co/1cHA0Kzql0',\n",
       "  'entities': {'url': {'urls': [{'url': 'https://t.co/1cHA0Kzql0',\n",
       "      'expanded_url': 'http://www.ndmsnow.com',\n",
       "      'display_url': 'ndmsnow.com',\n",
       "      'indices': [0, 23]}]},\n",
       "   'description': {'urls': []}},\n",
       "  'protected': False,\n",
       "  'followers_count': 14354,\n",
       "  'friends_count': 178,\n",
       "  'listed_count': 40,\n",
       "  'created_at': 'Mon Dec 10 12:37:36 +0000 2012',\n",
       "  'favourites_count': 1254,\n",
       "  'utc_offset': None,\n",
       "  'time_zone': None,\n",
       "  'geo_enabled': False,\n",
       "  'verified': False,\n",
       "  'statuses_count': 34124,\n",
       "  'lang': None,\n",
       "  'contributors_enabled': False,\n",
       "  'is_translator': False,\n",
       "  'is_translation_enabled': False,\n",
       "  'profile_background_color': 'C0DEED',\n",
       "  'profile_background_image_url': 'http://abs.twimg.com/images/themes/theme1/bg.png',\n",
       "  'profile_background_image_url_https': 'https://abs.twimg.com/images/themes/theme1/bg.png',\n",
       "  'profile_background_tile': True,\n",
       "  'profile_image_url': 'http://pbs.twimg.com/profile_images/1260890794203938819/u5QEcpYm_normal.jpg',\n",
       "  'profile_image_url_https': 'https://pbs.twimg.com/profile_images/1260890794203938819/u5QEcpYm_normal.jpg',\n",
       "  'profile_banner_url': 'https://pbs.twimg.com/profile_banners/1001592067/1596094839',\n",
       "  'profile_image_extensions_alt_text': None,\n",
       "  'profile_banner_extensions_alt_text': None,\n",
       "  'profile_link_color': '0084B4',\n",
       "  'profile_sidebar_border_color': 'FFFFFF',\n",
       "  'profile_sidebar_fill_color': 'DDEEF6',\n",
       "  'profile_text_color': '333333',\n",
       "  'profile_use_background_image': True,\n",
       "  'has_extended_profile': True,\n",
       "  'default_profile': False,\n",
       "  'default_profile_image': False,\n",
       "  'following': False,\n",
       "  'follow_request_sent': False,\n",
       "  'notifications': False,\n",
       "  'translator_type': 'none'},\n",
       " 'geo': None,\n",
       " 'coordinates': None,\n",
       " 'place': None,\n",
       " 'contributors': None,\n",
       " 'is_quote_status': False,\n",
       " 'retweet_count': 0,\n",
       " 'favorite_count': 0,\n",
       " 'favorited': False,\n",
       " 'retweeted': False,\n",
       " 'possibly_sensitive': False,\n",
       " 'lang': 'in'}"
      ]
     },
     "execution_count": 7,
     "metadata": {},
     "output_type": "execute_result"
    }
   ],
   "source": [
    "twt_dic"
   ]
  },
  {
   "cell_type": "code",
   "execution_count": 19,
   "metadata": {},
   "outputs": [
    {
     "name": "stdout",
     "output_type": "stream",
     "text": [
      "CPU times: user 1min 21s, sys: 2.47 s, total: 1min 24s\n",
      "Wall time: 1min 24s\n"
     ]
    }
   ],
   "source": [
    "%%time\n",
    "tweet_gen = tweets(path_to_data)\n",
    "hashtag_counts = {}\n",
    "while True:\n",
    "    try:\n",
    "        twt = next(tweet_gen)\n",
    "        twt_dic = json.loads(twt)\n",
    "        for tag in twt_dic['entities']['hashtags']:\n",
    "            if tag['text'] not in hashtag_counts:\n",
    "                hashtag_counts[tag['text']] = 1\n",
    "            else:\n",
    "                hashtag_counts[tag['text']] += 1\n",
    "                \n",
    "    except StopIteration:\n",
    "        break"
   ]
  },
  {
   "cell_type": "code",
   "execution_count": 26,
   "metadata": {},
   "outputs": [],
   "source": [
    "tag_counter = Counter(hashtag_counts)"
   ]
  },
  {
   "cell_type": "code",
   "execution_count": 63,
   "metadata": {},
   "outputs": [],
   "source": [
    "most_common = tag_counter.most_common(10)"
   ]
  },
  {
   "cell_type": "code",
   "execution_count": 64,
   "metadata": {},
   "outputs": [],
   "source": [
    "labels = [elem[0] for elem in most_common]\n",
    "values = [elem[1] for elem in most_common]"
   ]
  },
  {
   "cell_type": "code",
   "execution_count": 65,
   "metadata": {},
   "outputs": [
    {
     "data": {
      "image/png": "[encoded data removed]",
      "text/plain": [
       "<Figure size 432x288 with 1 Axes>"
      ]
     },
     "metadata": {
      "needs_background": "light"
     },
     "output_type": "display_data"
    }
   ],
   "source": [
    "indexes = np.arange(len(labels))\n",
    "\n",
    "plt.bar(labels, values)\n",
    "plt.xticks(indexes, labels, rotation='vertical', fontsize=8)\n",
    "plt.show()"
   ]
  },
  {
   "cell_type": "code",
   "execution_count": 8,
   "metadata": {},
   "outputs": [
    {
     "name": "stdout",
     "output_type": "stream",
     "text": [
      "CPU times: user 1.33 ms, sys: 695 µs, total: 2.03 ms\n",
      "Wall time: 1.35 ms\n"
     ]
    }
   ],
   "source": [
    "%%time\n",
    "tweet_gen = tweets(path_to_data)\n",
    "retweet = None\n",
    "while True:\n",
    "    try:\n",
    "        twt = next(tweet_gen)\n",
    "        twt_dic = json.loads(twt)\n",
    "        # retweeted_status is only a key if the tweet is a retweet\n",
    "        # the value of retweeted_status is the original tweet \n",
    "        if 'retweeted_status' in twt_dic.keys():\n",
    "            retweet = twt_dic\n",
    "            break\n",
    "    except StopIteration:\n",
    "        break"
   ]
  },
  {
   "cell_type": "code",
   "execution_count": 9,
   "metadata": {},
   "outputs": [
    {
     "data": {
      "text/plain": [
       "{'created_at': 'Sun Mar 22 04:01:36 +0000 2020',\n",
       " 'id': 1241575732926730241,\n",
       " 'id_str': '1241575732926730241',\n",
       " 'full_text': 'RT @SenMikeLee: OVER MY DEAD BODY https://t.co/B8BRbvRDDa',\n",
       " 'truncated': False,\n",
       " 'display_text_range': [0, 57],\n",
       " 'entities': {'hashtags': [],\n",
       "  'symbols': [],\n",
       "  'user_mentions': [{'screen_name': 'SenMikeLee',\n",
       "    'name': 'Mike Lee',\n",
       "    'id': 88784440,\n",
       "    'id_str': '88784440',\n",
       "    'indices': [3, 14]}],\n",
       "  'urls': [{'url': 'https://t.co/B8BRbvRDDa',\n",
       "    'expanded_url': 'https://www.politico.com/news/2020/03/21/doj-coronavirus-emergency-powers-140023',\n",
       "    'display_url': 'politico.com/news/2020/03/2…',\n",
       "    'indices': [34, 57]}]},\n",
       " 'source': '<a href=\"http://twitter.com/download/android\" rel=\"nofollow\">Twitter for Android</a>',\n",
       " 'in_reply_to_status_id': None,\n",
       " 'in_reply_to_status_id_str': None,\n",
       " 'in_reply_to_user_id': None,\n",
       " 'in_reply_to_user_id_str': None,\n",
       " 'in_reply_to_screen_name': None,\n",
       " 'user': {'id': 1206737321325924352,\n",
       "  'id_str': '1206737321325924352',\n",
       "  'name': 'Mad Dog Osiris',\n",
       "  'screen_name': 'MaddoxOCyrus1',\n",
       "  'location': '#BKNY',\n",
       "  'description': 'They said his brain was infected by devils...',\n",
       "  'url': None,\n",
       "  'entities': {'description': {'urls': []}},\n",
       "  'protected': False,\n",
       "  'followers_count': 393,\n",
       "  'friends_count': 3417,\n",
       "  'listed_count': 1,\n",
       "  'created_at': 'Tue Dec 17 00:47:13 +0000 2019',\n",
       "  'favourites_count': 32290,\n",
       "  'utc_offset': None,\n",
       "  'time_zone': None,\n",
       "  'geo_enabled': False,\n",
       "  'verified': False,\n",
       "  'statuses_count': 34303,\n",
       "  'lang': None,\n",
       "  'contributors_enabled': False,\n",
       "  'is_translator': False,\n",
       "  'is_translation_enabled': False,\n",
       "  'profile_background_color': 'F5F8FA',\n",
       "  'profile_background_image_url': None,\n",
       "  'profile_background_image_url_https': None,\n",
       "  'profile_background_tile': False,\n",
       "  'profile_image_url': 'http://pbs.twimg.com/profile_images/1206738900384923648/l-zmHUrA_normal.jpg',\n",
       "  'profile_image_url_https': 'https://pbs.twimg.com/profile_images/1206738900384923648/l-zmHUrA_normal.jpg',\n",
       "  'profile_image_extensions_alt_text': None,\n",
       "  'profile_link_color': '1DA1F2',\n",
       "  'profile_sidebar_border_color': 'C0DEED',\n",
       "  'profile_sidebar_fill_color': 'DDEEF6',\n",
       "  'profile_text_color': '333333',\n",
       "  'profile_use_background_image': True,\n",
       "  'has_extended_profile': True,\n",
       "  'default_profile': True,\n",
       "  'default_profile_image': False,\n",
       "  'following': False,\n",
       "  'follow_request_sent': False,\n",
       "  'notifications': False,\n",
       "  'translator_type': 'none'},\n",
       " 'geo': None,\n",
       " 'coordinates': None,\n",
       " 'place': None,\n",
       " 'contributors': None,\n",
       " 'retweeted_status': {'created_at': 'Sat Mar 21 23:30:32 +0000 2020',\n",
       "  'id': 1241507516980375555,\n",
       "  'id_str': '1241507516980375555',\n",
       "  'full_text': 'OVER MY DEAD BODY https://t.co/B8BRbvRDDa',\n",
       "  'truncated': False,\n",
       "  'display_text_range': [0, 41],\n",
       "  'entities': {'hashtags': [],\n",
       "   'symbols': [],\n",
       "   'user_mentions': [],\n",
       "   'urls': [{'url': 'https://t.co/B8BRbvRDDa',\n",
       "     'expanded_url': 'https://www.politico.com/news/2020/03/21/doj-coronavirus-emergency-powers-140023',\n",
       "     'display_url': 'politico.com/news/2020/03/2…',\n",
       "     'indices': [18, 41]}]},\n",
       "  'source': '<a href=\"http://twitter.com/download/iphone\" rel=\"nofollow\">Twitter for iPhone</a>',\n",
       "  'in_reply_to_status_id': None,\n",
       "  'in_reply_to_status_id_str': None,\n",
       "  'in_reply_to_user_id': None,\n",
       "  'in_reply_to_user_id_str': None,\n",
       "  'in_reply_to_screen_name': None,\n",
       "  'user': {'id': 88784440,\n",
       "   'id_str': '88784440',\n",
       "   'name': 'Mike Lee',\n",
       "   'screen_name': 'SenMikeLee',\n",
       "   'location': 'Utah',\n",
       "   'description': 'I am a United States Senator from the great state of Utah. Please help me restore constitutional leadership to Washington.',\n",
       "   'url': 'http://t.co/WnT9wNOtNT',\n",
       "   'entities': {'url': {'urls': [{'url': 'http://t.co/WnT9wNOtNT',\n",
       "       'expanded_url': 'http://www.lee.senate.gov',\n",
       "       'display_url': 'lee.senate.gov',\n",
       "       'indices': [0, 22]}]},\n",
       "    'description': {'urls': []}},\n",
       "   'protected': False,\n",
       "   'followers_count': 619660,\n",
       "   'friends_count': 2274,\n",
       "   'listed_count': 4786,\n",
       "   'created_at': 'Mon Nov 09 22:47:47 +0000 2009',\n",
       "   'favourites_count': 116,\n",
       "   'utc_offset': None,\n",
       "   'time_zone': None,\n",
       "   'geo_enabled': True,\n",
       "   'verified': True,\n",
       "   'statuses_count': 5605,\n",
       "   'lang': None,\n",
       "   'contributors_enabled': False,\n",
       "   'is_translator': False,\n",
       "   'is_translation_enabled': False,\n",
       "   'profile_background_color': 'F1F0EC',\n",
       "   'profile_background_image_url': 'http://abs.twimg.com/images/themes/theme1/bg.png',\n",
       "   'profile_background_image_url_https': 'https://abs.twimg.com/images/themes/theme1/bg.png',\n",
       "   'profile_background_tile': False,\n",
       "   'profile_image_url': 'http://pbs.twimg.com/profile_images/1006896016849858560/P3nNjlIe_normal.jpg',\n",
       "   'profile_image_url_https': 'https://pbs.twimg.com/profile_images/1006896016849858560/P3nNjlIe_normal.jpg',\n",
       "   'profile_banner_url': 'https://pbs.twimg.com/profile_banners/88784440/1594150263',\n",
       "   'profile_image_extensions_alt_text': None,\n",
       "   'profile_banner_extensions_alt_text': None,\n",
       "   'profile_link_color': '0084B4',\n",
       "   'profile_sidebar_border_color': 'C0DEED',\n",
       "   'profile_sidebar_fill_color': 'DDEEF6',\n",
       "   'profile_text_color': '333333',\n",
       "   'profile_use_background_image': True,\n",
       "   'has_extended_profile': False,\n",
       "   'default_profile': False,\n",
       "   'default_profile_image': False,\n",
       "   'following': False,\n",
       "   'follow_request_sent': False,\n",
       "   'notifications': False,\n",
       "   'translator_type': 'none'},\n",
       "  'geo': None,\n",
       "  'coordinates': None,\n",
       "  'place': None,\n",
       "  'contributors': None,\n",
       "  'is_quote_status': False,\n",
       "  'retweet_count': 11496,\n",
       "  'favorite_count': 46620,\n",
       "  'favorited': False,\n",
       "  'retweeted': False,\n",
       "  'possibly_sensitive': False,\n",
       "  'lang': 'en'},\n",
       " 'is_quote_status': False,\n",
       " 'retweet_count': 11496,\n",
       " 'favorite_count': 0,\n",
       " 'favorited': False,\n",
       " 'retweeted': False,\n",
       " 'possibly_sensitive': False,\n",
       " 'lang': 'en'}"
      ]
     },
     "execution_count": 9,
     "metadata": {},
     "output_type": "execute_result"
    }
   ],
   "source": [
    "retweet"
   ]
  },
  {
   "cell_type": "code",
   "execution_count": null,
   "metadata": {},
   "outputs": [],
   "source": []
  }
 ],
 "metadata": {
  "kernelspec": {
   "display_name": "Python 3",
   "language": "python",
   "name": "python3"
  },
  "language_info": {
   "codemirror_mode": {
    "name": "ipython",
    "version": 3
   },
   "file_extension": ".py",
   "mimetype": "text/x-python",
   "name": "python",
   "nbconvert_exporter": "python",
   "pygments_lexer": "ipython3",
   "version": "3.7.6"
  }
 },
 "nbformat": 4,
 "nbformat_minor": 4
}
